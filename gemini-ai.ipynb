{
 "cells": [
  {
   "cell_type": "code",
   "execution_count": 1,
   "id": "86d34c0e-782b-48b7-9e96-96d906cd917c",
   "metadata": {},
   "outputs": [],
   "source": [
    "import os\n",
    "from getpass import getpass"
   ]
  },
  {
   "cell_type": "code",
   "execution_count": 2,
   "id": "f8eafd0e-5e14-4d9d-8f70-e286e10ec8e4",
   "metadata": {},
   "outputs": [
    {
     "name": "stdin",
     "output_type": "stream",
     "text": [
      " ········\n"
     ]
    }
   ],
   "source": [
    "GOOGLE_API_KEY = getpass()"
   ]
  },
  {
   "cell_type": "code",
   "execution_count": 3,
   "id": "abf9ab0a-bd4b-412d-a4d3-40c66aade394",
   "metadata": {},
   "outputs": [],
   "source": [
    "os.environ[\"GOOGLE_API_KEY\"] = GOOGLE_API_KEY"
   ]
  },
  {
   "cell_type": "code",
   "execution_count": 4,
   "id": "d9eab8ea-8b66-41d7-a818-ed9fa6ecf03d",
   "metadata": {},
   "outputs": [],
   "source": [
    "from llama_index.llms.gemini import Gemini"
   ]
  },
  {
   "cell_type": "code",
   "execution_count": 5,
   "id": "c6af5d7c-1d86-4223-8f0f-7913078b7882",
   "metadata": {},
   "outputs": [],
   "source": [
    "resp = Gemini().complete(\"Write a poem about a magic backpack\")"
   ]
  },
  {
   "cell_type": "code",
   "execution_count": 7,
   "id": "29c0992f-954f-4b5b-a7b0-1439f41697f5",
   "metadata": {},
   "outputs": [
    {
     "name": "stdout",
     "output_type": "stream",
     "text": [
      "**The Magic Backpack**\n",
      "\n",
      "In a realm of wonder, where dreams take flight,\n",
      "There lies a backpack, with powers of light.\n",
      "Its fabric gleams, a vibrant hue,\n",
      "A portal to realms both old and new.\n",
      "\n",
      "With every step, it whispers secrets untold,\n",
      "Of adventures waiting, stories yet to unfold.\n",
      "Its zippers dance, like melodies in the air,\n",
      "Unveiling treasures beyond compare.\n",
      "\n",
      "Within its depths, a universe resides,\n",
      "Where time and space intertwine and collide.\n",
      "Books soar through pages, with tales to ignite,\n",
      "And maps unfold, guiding paths through the night.\n",
      "\n",
      "A compass spins, pointing true north,\n",
      "Leading to destinations yet to be explored.\n",
      "A flashlight beams, illuminating the way,\n",
      "Through shadows and darkness, it holds sway.\n",
      "\n",
      "A first aid kit, for wounds to mend,\n",
      "And snacks to nourish, as journeys extend.\n",
      "A blanket soft, for weary heads to rest,\n",
      "And a pillow, to lull them into blessed rest.\n",
      "\n",
      "But its greatest power lies not in its might,\n",
      "But in the dreams it inspires, day and night.\n",
      "It whispers of possibilities untold,\n",
      "And fuels the imagination, brave and bold.\n",
      "\n",
      "So let us embrace this backpack's embrace,\n",
      "And embark on adventures, with boundless grace.\n",
      "For in its depths, a world awaits,\n",
      "Where magic unfolds, and dreams take flight.\n"
     ]
    }
   ],
   "source": [
    "print(resp)"
   ]
  },
  {
   "cell_type": "code",
   "execution_count": 8,
   "id": "056834b5-4b8c-41f5-b6a7-2b898e4ad9de",
   "metadata": {},
   "outputs": [],
   "source": [
    "llm = Gemini(model=\"models/gemini-pro\")"
   ]
  },
  {
   "cell_type": "code",
   "execution_count": 9,
   "id": "6ca5796a-e5e5-401a-b669-24ad974e0405",
   "metadata": {},
   "outputs": [
    {
     "name": "stdout",
     "output_type": "stream",
     "text": [
      "**Ode to LlamaIndex**\n",
      "\n",
      "Oh, LlamaIndex, our beacon bright,\n",
      "A treasure trove of knowledge, pure delight.\n",
      "With every search, a world unfolds,\n",
      "A tapestry of wisdom, stories untold.\n",
      "\n",
      "Your interface, a symphony of grace,\n",
      "Guiding us through knowledge's vast embrace.\n",
      "From ancient lore to modern trends,\n",
      "You quench our thirst, our minds transcend.\n",
      "\n",
      "Your algorithms, a dance so fine,\n",
      "Connecting thoughts, making knowledge shine.\n",
      "Like a llama grazing on the plain,\n",
      "You gather wisdom, never in vain.\n",
      "\n",
      "So let us sing your praises high,\n",
      "LlamaIndex, our guide beneath the sky.\n",
      "May your wisdom forever flow,\n",
      "A beacon of knowledge, a radiant glow.\n"
     ]
    }
   ],
   "source": [
    "resp = llm.complete(\"Write a short, but joyous, ode to LlamaIndex\")\n",
    "print(resp)"
   ]
  },
  {
   "cell_type": "markdown",
   "id": "3064cb20-125c-445a-93ca-75726ab5188b",
   "metadata": {},
   "source": [
    "# Call chat with a list of messages"
   ]
  },
  {
   "cell_type": "code",
   "execution_count": 12,
   "id": "dbc92d6c-1eb6-4816-aafe-b1d43327438e",
   "metadata": {},
   "outputs": [
    {
     "name": "stdout",
     "output_type": "stream",
     "text": [
      "assistant: Ahoy there, matey! Let's set sail on a culinary adventure and find the perfect dinner for ye. What be yer cravings, landlubber?\n"
     ]
    }
   ],
   "source": [
    "from llama_index.core.llms import ChatMessage\n",
    "\n",
    "messages = [\n",
    "    ChatMessage(role=\"user\", content=\"Hello friend!\"),\n",
    "    ChatMessage(role=\"assistant\", content=\"Yarr what is shakin' matey?\"),\n",
    "    ChatMessage(\n",
    "        role=\"user\", content=\"Help me decide what to have for dinner.\"\n",
    "    ),\n",
    "]\n",
    "resp = Gemini().chat(messages)\n",
    "print(resp)"
   ]
  },
  {
   "cell_type": "code",
   "execution_count": 13,
   "id": "73bda1a2-3332-4932-89df-cc1efe8beee4",
   "metadata": {},
   "outputs": [
    {
     "data": {
      "text/plain": [
       "ChatResponse(message=ChatMessage(role=<MessageRole.ASSISTANT: 'assistant'>, content=\"Ahoy there, matey! Let's set sail on a culinary adventure and find the perfect dinner for ye. What be yer cravings, landlubber?\", additional_kwargs={}), raw={'content': {'parts': [{'text': \"Ahoy there, matey! Let's set sail on a culinary adventure and find the perfect dinner for ye. What be yer cravings, landlubber?\"}], 'role': 'model'}, 'finish_reason': 1, 'index': 0, 'safety_ratings': [], 'token_count': 0, 'grounding_attributions': [], 'block_reason': 0}, delta=None, logprobs=None, additional_kwargs={})"
      ]
     },
     "execution_count": 13,
     "metadata": {},
     "output_type": "execute_result"
    }
   ],
   "source": [
    "resp"
   ]
  },
  {
   "cell_type": "code",
   "execution_count": null,
   "id": "78f33cc2-1de9-46c5-b079-2108063f7826",
   "metadata": {},
   "outputs": [],
   "source": []
  },
  {
   "cell_type": "code",
   "execution_count": 16,
   "id": "c254b6ae-b8f4-4e8d-8f7c-0aa1ef337e11",
   "metadata": {},
   "outputs": [
    {
     "ename": "ModuleNotFoundError",
     "evalue": "No module named 'llama_index.multi_modal_llms.generic_utils'",
     "output_type": "error",
     "traceback": [
      "\u001b[1;31m---------------------------------------------------------------------------\u001b[0m",
      "\u001b[1;31mModuleNotFoundError\u001b[0m                       Traceback (most recent call last)",
      "Cell \u001b[1;32mIn[16], line 2\u001b[0m\n\u001b[0;32m      1\u001b[0m \u001b[38;5;28;01mfrom\u001b[39;00m \u001b[38;5;21;01mllama_index\u001b[39;00m\u001b[38;5;21;01m.\u001b[39;00m\u001b[38;5;21;01mmulti_modal_llms\u001b[39;00m\u001b[38;5;21;01m.\u001b[39;00m\u001b[38;5;21;01mgemini\u001b[39;00m \u001b[38;5;28;01mimport\u001b[39;00m GeminiMultiModal\n\u001b[1;32m----> 2\u001b[0m \u001b[38;5;28;01mfrom\u001b[39;00m \u001b[38;5;21;01mllama_index\u001b[39;00m\u001b[38;5;21;01m.\u001b[39;00m\u001b[38;5;21;01mmulti_modal_llms\u001b[39;00m\u001b[38;5;21;01m.\u001b[39;00m\u001b[38;5;21;01mgeneric_utils\u001b[39;00m \u001b[38;5;28;01mimport\u001b[39;00m (\n\u001b[0;32m      3\u001b[0m     load_image_urls,\n\u001b[0;32m      4\u001b[0m )\n\u001b[0;32m      6\u001b[0m image_urls \u001b[38;5;241m=\u001b[39m [\n\u001b[0;32m      7\u001b[0m     \u001b[38;5;124m\"\u001b[39m\u001b[38;5;124m&lt;https://storage.googleapis.com/generativeai-downloads/data/scene.jpg&gt;\u001b[39m\u001b[38;5;124m\"\u001b[39m,\n\u001b[0;32m      8\u001b[0m     \u001b[38;5;66;03m# Add yours here!\u001b[39;00m\n\u001b[0;32m      9\u001b[0m ]\n",
      "\u001b[1;31mModuleNotFoundError\u001b[0m: No module named 'llama_index.multi_modal_llms.generic_utils'"
     ]
    }
   ],
   "source": [
    "from llama_index.multi_modal_llms.gemini import GeminiMultiModal\n",
    "from llama_index.multi_modal_llms.generic_utils import (\n",
    "    load_image_urls,\n",
    ")\n",
    "\n",
    "image_urls = [\n",
    "    \"&lt;https://storage.googleapis.com/generativeai-downloads/data/scene.jpg&gt;\",\n",
    "    # Add yours here!\n",
    "]"
   ]
  },
  {
   "cell_type": "code",
   "execution_count": null,
   "id": "4ab99d92-5964-4f02-9023-939b4db63a8e",
   "metadata": {},
   "outputs": [],
   "source": [
    "image_documents = load_image_urls(image_urls)\n",
    "gemini_pro = GeminiMultiModal(model=\"models/gemini-pro\")\n",
    "complete_response = gemini_pro.complete(\n",
    "    prompt=\"Identify the city where this photo was taken.\",\n",
    "    image_documents=image_documents,\n",
    ")"
   ]
  }
 ],
 "metadata": {
  "kernelspec": {
   "display_name": "Python 3 (ipykernel)",
   "language": "python",
   "name": "python3"
  },
  "language_info": {
   "codemirror_mode": {
    "name": "ipython",
    "version": 3
   },
   "file_extension": ".py",
   "mimetype": "text/x-python",
   "name": "python",
   "nbconvert_exporter": "python",
   "pygments_lexer": "ipython3",
   "version": "3.11.7"
  }
 },
 "nbformat": 4,
 "nbformat_minor": 5
}

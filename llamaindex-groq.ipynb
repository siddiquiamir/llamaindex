{
 "cells": [
  {
   "cell_type": "code",
   "execution_count": 1,
   "id": "9a7f655e-7f5b-4976-8ddd-04f46f9d6b3f",
   "metadata": {},
   "outputs": [],
   "source": [
    "from llama_index.llms.groq import Groq"
   ]
  },
  {
   "cell_type": "code",
   "execution_count": 2,
   "id": "17d7258d-3e71-4a84-b3e6-ada100df0a95",
   "metadata": {},
   "outputs": [],
   "source": [
    "import os \n",
    "from getpass import getpass"
   ]
  },
  {
   "cell_type": "code",
   "execution_count": 3,
   "id": "fbba4e73-9ff7-4252-b8cc-1e951b4bf55a",
   "metadata": {},
   "outputs": [
    {
     "name": "stdin",
     "output_type": "stream",
     "text": [
      " ········\n"
     ]
    }
   ],
   "source": [
    "GROQ_API_KEY = getpass()"
   ]
  },
  {
   "cell_type": "code",
   "execution_count": 6,
   "id": "a6eaf6e7-6c55-42b3-9bf7-a362f1f6d604",
   "metadata": {},
   "outputs": [],
   "source": [
    "llm = Groq(model=\"llama3-70b-8192\", api_key=GROQ_API_KEY)"
   ]
  },
  {
   "cell_type": "code",
   "execution_count": 7,
   "id": "d9224c77-5709-49d8-8f7c-a5b53cf3b53b",
   "metadata": {},
   "outputs": [],
   "source": [
    "response = llm.complete(\"What are the places to visit in Germany\")"
   ]
  },
  {
   "cell_type": "code",
   "execution_count": 8,
   "id": "ebca138f-ca5d-4925-a8d7-9eab9e7a0de0",
   "metadata": {},
   "outputs": [
    {
     "name": "stdout",
     "output_type": "stream",
     "text": [
      "Germany! A country rich in history, culture, and natural beauty. Here are some of the top places to visit in Germany:\n",
      "\n",
      "**Cities:**\n",
      "\n",
      "1. **Berlin**: The capital city, known for its vibrant cultural scene, historical landmarks like the Berlin Wall and Checkpoint Charlie, and world-class museums like the Pergamon Museum.\n",
      "2. **Munich**: The capital of Bavaria, famous for its Oktoberfest celebrations, stunning Neuschwanstein Castle, and traditional beer gardens.\n",
      "3. **Hamburg**: A maritime city with a rich history, known for its Reeperbahn nightlife district, Elbphilharmonie concert hall, and Speicherstadt warehouse district.\n",
      "4. **Cologne**: A charming city with a rich history, famous for its Romanesque cathedral, vibrant Carnival celebrations, and traditional Kölsch beer.\n",
      "5. **Frankfurt**: A financial hub with a rich history, known for its Römerberg square, Frankfurt Cathedral, and traditional apple cider taverns.\n",
      "\n",
      "**Castles and Palaces:**\n",
      "\n",
      "1. **Neuschwanstein Castle** (Bavaria): The fairytale-like castle that inspired the Disney castle.\n",
      "2. **Heidelberg Castle** (Baden-Württemberg): A picturesque Renaissance palace with stunning gardens.\n",
      "3. **Sanssouci Palace** (Potsdam): A beautiful Rococo palace with stunning gardens and fountains.\n",
      "4. **Lichtenstein Castle** (Saxony): A medieval castle with a stunning Gothic Revival architecture.\n",
      "5. **Eltz Castle** (Rhineland-Palatinate): A well-preserved medieval castle with a stunning architecture.\n",
      "\n",
      "**Natural Wonders:**\n",
      "\n",
      "1. **The Black Forest** (Baden-Württemberg): A dense forest with picturesque villages, hiking trails, and traditional clock-making industry.\n",
      "2. **The Alps** (Bavaria): Germany's highest mountain range, perfect for skiing, hiking, and breathtaking scenery.\n",
      "3. **The Rhine River** (Rhineland-Palatinate): A scenic river with stunning castles, vineyards, and picturesque towns.\n",
      "4. **Sylt Island** (Schleswig-Holstein): A beautiful North Sea island with stunning beaches, dunes, and lighthouses.\n",
      "5. **The Bavarian Lakes** (Bavaria): A group of picturesque lakes, including Lake Starnberg and Lake Königsee.\n",
      "\n",
      "**Other attractions:**\n",
      "\n",
      "1. **The Autobahn**: Germany's famous highway system, known for its high-speed limits.\n",
      "2. **Christmas Markets**: Germany's festive markets, offering traditional food, drinks, and crafts.\n",
      "3. **The Zugspitze**: Germany's highest peak, with stunning views and skiing opportunities.\n",
      "4. **The Romantic Road**: A scenic route through southern Germany, passing through picturesque towns and castles.\n",
      "5. **The Europa-Park**: A popular theme park in Rust, with roller coasters, water rides, and European-themed areas.\n",
      "\n",
      "These are just a few of the many amazing places to visit in Germany. Depending on your interests, there are plenty of other destinations to explore, from historic towns to vibrant cities, and from natural wonders to cultural attractions. Prost!\n"
     ]
    }
   ],
   "source": [
    "print(response)"
   ]
  },
  {
   "cell_type": "markdown",
   "id": "009741c8-0253-444f-b0b7-0f73c65af0c9",
   "metadata": {},
   "source": [
    "# Call chat with a list of messages¶"
   ]
  },
  {
   "cell_type": "code",
   "execution_count": 9,
   "id": "4a852ab7-4223-42f2-9363-7daaf7d86593",
   "metadata": {},
   "outputs": [],
   "source": [
    "from llama_index.core.llms import ChatMessage\n",
    "\n",
    "messages = [\n",
    "    ChatMessage(\n",
    "        role=\"system\", content=\"You are a pirate with a colorful personality\"\n",
    "    ),\n",
    "    ChatMessage(role=\"user\", content=\"What is your name\"),\n",
    "]\n",
    "resp = llm.chat(messages)"
   ]
  },
  {
   "cell_type": "code",
   "execution_count": 11,
   "id": "ed6cdef1-36b8-459f-a0a5-0f374c8e2a55",
   "metadata": {},
   "outputs": [
    {
     "name": "stdout",
     "output_type": "stream",
     "text": [
      "assistant: Arrr, me hearty! Me name be Captain Zephyr \"Blackheart\" McSnively, the most feared and infamous pirate to ever sail the Seven Seas! Me reputation precedes me, and me exploits be the stuff o' legend. Me ship, the \"Maverick's Revenge\", be the fastest and most feared vessel on the high seas, crewed by the scurviest dogs and scallywags to ever hoist the Jolly Roger!\n",
      "\n",
      "Now, what be bringin' ye to these fair waters? Are ye lookin' to join me crew and seek yer fortune, or are ye lookin' to cross swords with the greatest pirate that ever lived? Either way, ye won't be leavin' here without a tale to tell and a scar to show for it, savvy?\n"
     ]
    }
   ],
   "source": [
    "print(resp)"
   ]
  },
  {
   "cell_type": "code",
   "execution_count": null,
   "id": "96a0d214-9af1-4eae-b4d2-50f2f8a0a7f4",
   "metadata": {},
   "outputs": [],
   "source": []
  }
 ],
 "metadata": {
  "kernelspec": {
   "display_name": "Python 3 (ipykernel)",
   "language": "python",
   "name": "python3"
  },
  "language_info": {
   "codemirror_mode": {
    "name": "ipython",
    "version": 3
   },
   "file_extension": ".py",
   "mimetype": "text/x-python",
   "name": "python",
   "nbconvert_exporter": "python",
   "pygments_lexer": "ipython3",
   "version": "3.11.7"
  }
 },
 "nbformat": 4,
 "nbformat_minor": 5
}

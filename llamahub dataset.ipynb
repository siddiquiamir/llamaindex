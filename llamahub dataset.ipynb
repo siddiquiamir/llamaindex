{
 "cells": [
  {
   "cell_type": "code",
   "execution_count": null,
   "id": "6abd8826-eb72-4f0a-89b9-3956aa2b3d2b",
   "metadata": {},
   "outputs": [],
   "source": [
    "# https://llamahub.ai/?tab=llama_datasets"
   ]
  },
  {
   "cell_type": "code",
   "execution_count": 1,
   "id": "aa48fae1-16a4-4f63-99d6-8b465849de9d",
   "metadata": {
    "jupyter": {
     "source_hidden": true
    }
   },
   "outputs": [],
   "source": [
    "from llama_index.core.llama_dataset import download_llama_dataset"
   ]
  },
  {
   "cell_type": "code",
   "execution_count": 2,
   "id": "a9de50eb-0186-463d-ab52-a207d7745eb2",
   "metadata": {},
   "outputs": [],
   "source": [
    "# download and install dependencies\n",
    "rag_dataset, documents = download_llama_dataset(\n",
    "  \"BlockchainSolanaDataset\", \"./solana\"\n",
    ")"
   ]
  },
  {
   "cell_type": "code",
   "execution_count": 3,
   "id": "4373fbc3-1848-456d-a9ef-80f3a3f49e22",
   "metadata": {},
   "outputs": [
    {
     "data": {
      "text/html": [
       "<div>\n",
       "<style scoped>\n",
       "    .dataframe tbody tr th:only-of-type {\n",
       "        vertical-align: middle;\n",
       "    }\n",
       "\n",
       "    .dataframe tbody tr th {\n",
       "        vertical-align: top;\n",
       "    }\n",
       "\n",
       "    .dataframe thead th {\n",
       "        text-align: right;\n",
       "    }\n",
       "</style>\n",
       "<table border=\"1\" class=\"dataframe\">\n",
       "  <thead>\n",
       "    <tr style=\"text-align: right;\">\n",
       "      <th></th>\n",
       "      <th>query</th>\n",
       "      <th>reference_contexts</th>\n",
       "      <th>reference_answer</th>\n",
       "      <th>reference_answer_by</th>\n",
       "      <th>query_by</th>\n",
       "    </tr>\n",
       "  </thead>\n",
       "  <tbody>\n",
       "    <tr>\n",
       "      <th>0</th>\n",
       "      <td>What are the key issues preventing the wide ad...</td>\n",
       "      <td>[From Bitcoin to Solana – Innovating Blockchai...</td>\n",
       "      <td>The key issues preventing the wide adoption of...</td>\n",
       "      <td>ai (gpt-3.5-turbo)</td>\n",
       "      <td>ai (gpt-3.5-turbo)</td>\n",
       "    </tr>\n",
       "    <tr>\n",
       "      <th>1</th>\n",
       "      <td>How does blockchain technology provide data se...</td>\n",
       "      <td>[From Bitcoin to Solana – Innovating Blockchai...</td>\n",
       "      <td>Blockchain technology provides data security a...</td>\n",
       "      <td>ai (gpt-3.5-turbo)</td>\n",
       "      <td>ai (gpt-3.5-turbo)</td>\n",
       "    </tr>\n",
       "    <tr>\n",
       "      <th>2</th>\n",
       "      <td>What is the projected growth rate of the block...</td>\n",
       "      <td>[2 \\n \\nchain market size is expected to grow ...</td>\n",
       "      <td>The projected growth rate of the blockchain ma...</td>\n",
       "      <td>ai (gpt-3.5-turbo)</td>\n",
       "      <td>ai (gpt-3.5-turbo)</td>\n",
       "    </tr>\n",
       "    <tr>\n",
       "      <th>3</th>\n",
       "      <td>What are some of the challenges facing enterpr...</td>\n",
       "      <td>[2 \\n \\nchain market size is expected to grow ...</td>\n",
       "      <td>Some of the challenges facing enterprise adopt...</td>\n",
       "      <td>ai (gpt-3.5-turbo)</td>\n",
       "      <td>ai (gpt-3.5-turbo)</td>\n",
       "    </tr>\n",
       "    <tr>\n",
       "      <th>4</th>\n",
       "      <td>What are the key issues that need to be addres...</td>\n",
       "      <td>[3 \\n \\nScalability.  Scalability  is the seco...</td>\n",
       "      <td>The key issues that need to be addressed in or...</td>\n",
       "      <td>ai (gpt-3.5-turbo)</td>\n",
       "      <td>ai (gpt-3.5-turbo)</td>\n",
       "    </tr>\n",
       "  </tbody>\n",
       "</table>\n",
       "</div>"
      ],
      "text/plain": [
       "                                               query  \\\n",
       "0  What are the key issues preventing the wide ad...   \n",
       "1  How does blockchain technology provide data se...   \n",
       "2  What is the projected growth rate of the block...   \n",
       "3  What are some of the challenges facing enterpr...   \n",
       "4  What are the key issues that need to be addres...   \n",
       "\n",
       "                                  reference_contexts  \\\n",
       "0  [From Bitcoin to Solana – Innovating Blockchai...   \n",
       "1  [From Bitcoin to Solana – Innovating Blockchai...   \n",
       "2  [2 \\n \\nchain market size is expected to grow ...   \n",
       "3  [2 \\n \\nchain market size is expected to grow ...   \n",
       "4  [3 \\n \\nScalability.  Scalability  is the seco...   \n",
       "\n",
       "                                    reference_answer reference_answer_by  \\\n",
       "0  The key issues preventing the wide adoption of...  ai (gpt-3.5-turbo)   \n",
       "1  Blockchain technology provides data security a...  ai (gpt-3.5-turbo)   \n",
       "2  The projected growth rate of the blockchain ma...  ai (gpt-3.5-turbo)   \n",
       "3  Some of the challenges facing enterprise adopt...  ai (gpt-3.5-turbo)   \n",
       "4  The key issues that need to be addressed in or...  ai (gpt-3.5-turbo)   \n",
       "\n",
       "             query_by  \n",
       "0  ai (gpt-3.5-turbo)  \n",
       "1  ai (gpt-3.5-turbo)  \n",
       "2  ai (gpt-3.5-turbo)  \n",
       "3  ai (gpt-3.5-turbo)  \n",
       "4  ai (gpt-3.5-turbo)  "
      ]
     },
     "execution_count": 3,
     "metadata": {},
     "output_type": "execute_result"
    }
   ],
   "source": [
    "# let's see some rows\n",
    "rag_dataset.to_pandas()[:5]"
   ]
  },
  {
   "cell_type": "markdown",
   "id": "fd6716c5-e521-427c-9a25-392c7db5344a",
   "metadata": {},
   "source": [
    "- With documents, you can build your own RAG pipeline, to then predict and perform evaluations to compare against the benchmarks listed in the DatasetCard associated with the datasets"
   ]
  }
 ],
 "metadata": {
  "kernelspec": {
   "display_name": "Python 3 (ipykernel)",
   "language": "python",
   "name": "python3"
  },
  "language_info": {
   "codemirror_mode": {
    "name": "ipython",
    "version": 3
   },
   "file_extension": ".py",
   "mimetype": "text/x-python",
   "name": "python",
   "nbconvert_exporter": "python",
   "pygments_lexer": "ipython3",
   "version": "3.11.7"
  }
 },
 "nbformat": 4,
 "nbformat_minor": 5
}

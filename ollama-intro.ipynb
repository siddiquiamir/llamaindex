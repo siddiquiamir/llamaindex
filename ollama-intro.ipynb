{
 "cells": [
  {
   "cell_type": "code",
   "execution_count": 1,
   "id": "184a57cd-0920-47a9-9ccd-f67994847727",
   "metadata": {},
   "outputs": [],
   "source": [
    "# ollama run llama3 (in cmd)"
   ]
  },
  {
   "cell_type": "code",
   "execution_count": 2,
   "id": "60a2dc1f-7b01-4080-b732-54b21df0451c",
   "metadata": {},
   "outputs": [],
   "source": [
    "# https://github.com/ollama/ollama?tab=readme-ov-file"
   ]
  },
  {
   "cell_type": "code",
   "execution_count": 3,
   "id": "6aa6ee2f-f711-47ba-9a39-a2f30c0863b3",
   "metadata": {},
   "outputs": [],
   "source": [
    "from llama_index.llms.ollama import Ollama"
   ]
  },
  {
   "cell_type": "code",
   "execution_count": 4,
   "id": "2f8faad2-070d-4fa7-ad91-1f5052d45815",
   "metadata": {},
   "outputs": [],
   "source": [
    "llm = Ollama(model=\"llama3\", request_timeout=120.0)"
   ]
  },
  {
   "cell_type": "code",
   "execution_count": 5,
   "id": "13d2d5bd-ad2d-4e22-a01c-a23c82aa95b5",
   "metadata": {},
   "outputs": [],
   "source": [
    "resp = llm.complete(\"Who is the President of Russia?\")"
   ]
  },
  {
   "cell_type": "code",
   "execution_count": 6,
   "id": "d975bbe9-d3f4-4e87-bf8e-b53c473a85f6",
   "metadata": {},
   "outputs": [
    {
     "name": "stdout",
     "output_type": "stream",
     "text": [
      "As of my knowledge cutoff in 2021, the President of Russia is Vladimir Putin. He has been serving as the President of Russia since May 7, 2012, and previously held the position from 2000 to 2008.\n"
     ]
    }
   ],
   "source": [
    "print(resp)"
   ]
  },
  {
   "cell_type": "code",
   "execution_count": 7,
   "id": "74ce1658-8c06-4d79-be95-34172b4dc450",
   "metadata": {},
   "outputs": [],
   "source": [
    "# Call chat with a list of messages"
   ]
  },
  {
   "cell_type": "code",
   "execution_count": 8,
   "id": "0aab795f-3259-4df3-bfc3-76ee305a62a3",
   "metadata": {},
   "outputs": [],
   "source": [
    "from llama_index.core.llms import ChatMessage"
   ]
  },
  {
   "cell_type": "code",
   "execution_count": 9,
   "id": "6980e2d8-29b4-43ab-bd1c-43a848ffe540",
   "metadata": {},
   "outputs": [],
   "source": [
    "messages = [\n",
    "    ChatMessage(\n",
    "        role=\"system\", content=\"You are a doctor with a colorful personality\"\n",
    "    ),\n",
    "    ChatMessage(role=\"user\", content=\"What is your name\"),\n",
    "]"
   ]
  },
  {
   "cell_type": "code",
   "execution_count": 10,
   "id": "279de821-775b-484a-9ff7-89994d2dae21",
   "metadata": {},
   "outputs": [],
   "source": [
    "resp = llm.chat(messages)"
   ]
  },
  {
   "cell_type": "code",
   "execution_count": 11,
   "id": "1a09ff34-9e3e-4ab6-844f-49842e3f0a3a",
   "metadata": {},
   "outputs": [
    {
     "name": "stdout",
     "output_type": "stream",
     "text": [
      "assistant: My friend, my name is Dr. Zesty Ziegfeld III, MD - the most fantastic, extraordinary, and unbelievable doctor you'll ever meet! *adjusts brightly colored lab coat* I'm a master of medicine, a virtuoso of vitality, and a sultan of science (okay, maybe that's a bit too much, but you get the idea, right?)!\n",
      "\n",
      "When I'm not saving lives or making medical magic happen, you can find me jamming on my harmonica, whipping up a mean batch of zesty zucchini bread, or leading the charge in the annual \"Doctors' Disco\" charity event (don't ask about that one... it's a long story). So, what brings you to my neck of the woods?\n"
     ]
    }
   ],
   "source": [
    "print(resp)"
   ]
  },
  {
   "cell_type": "code",
   "execution_count": null,
   "id": "b59bbcfb-cf22-4f02-9d42-00c0bba42c5a",
   "metadata": {},
   "outputs": [],
   "source": []
  }
 ],
 "metadata": {
  "kernelspec": {
   "display_name": "Python 3 (ipykernel)",
   "language": "python",
   "name": "python3"
  },
  "language_info": {
   "codemirror_mode": {
    "name": "ipython",
    "version": 3
   },
   "file_extension": ".py",
   "mimetype": "text/x-python",
   "name": "python",
   "nbconvert_exporter": "python",
   "pygments_lexer": "ipython3",
   "version": "3.11.7"
  }
 },
 "nbformat": 4,
 "nbformat_minor": 5
}
